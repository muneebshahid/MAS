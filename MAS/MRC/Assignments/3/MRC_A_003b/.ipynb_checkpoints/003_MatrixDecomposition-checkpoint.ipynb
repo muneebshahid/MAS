{
 "metadata": {
  "name": ""
 },
 "nbformat": 3,
 "nbformat_minor": 0,
 "worksheets": [
  {
   "cells": [
    {
     "cell_type": "markdown",
     "metadata": {},
     "source": [
      "<style type=\"text/css\">\n",
      ".time_spent {\n",
      "    width: 3em;\n",
      "    border-style: none;\n",
      "    background-color: silver;\n",
      "    font-weight: bold;\n",
      "    padding-left: 5px;\n",
      "}\n",
      "</style>"
     ]
    },
    {
     "cell_type": "heading",
     "level": 1,
     "metadata": {},
     "source": [
      "[WS13/14] Mathematics for Robotics and Control Assignment 003 - Matrix Decomposition"
     ]
    },
    {
     "cell_type": "code",
     "collapsed": false,
     "input": [
      "import IPython.core.display\n",
      "import sys\n",
      "if not \"win\" in sys.platform and not \"linux\" in sys.platform:\n",
      "    %pylab\n",
      "else:\n",
      "    %pylab inline"
     ],
     "language": "python",
     "metadata": {},
     "outputs": [
      {
       "output_type": "stream",
       "stream": "stdout",
       "text": [
        "Populating the interactive namespace from numpy and matplotlib\n"
       ]
      }
     ],
     "prompt_number": 40
    },
    {
     "cell_type": "markdown",
     "metadata": {},
     "source": [
      "---"
     ]
    },
    {
     "cell_type": "heading",
     "level": 3,
     "metadata": {},
     "source": [
      "Function and Module List"
     ]
    },
    {
     "cell_type": "markdown",
     "metadata": {},
     "source": [
      "Each week, the assignment sheet will contain a list of Python modules and functions you are supposed to know. These modules and functions will help you to solve the assignments and many of them are required in later assignments. You are expected to familiarize yourself with each module / function listed here and to know when and how to apply them. Remember this is especially important in the exam!"
     ]
    },
    {
     "cell_type": "markdown",
     "metadata": {},
     "source": [
      "**Modules**:\n",
      "\n",
      "* numpy.linalg\n",
      "\n",
      "**Functions**:\n",
      "\n",
      "numpy.linalg:\n",
      "\n",
      "* qr, svd\n"
     ]
    },
    {
     "cell_type": "markdown",
     "metadata": {},
     "source": [
      "---"
     ]
    },
    {
     "cell_type": "heading",
     "level": 3,
     "metadata": {},
     "source": [
      "Assignment 3.1 <span style=\"color: green;\">[L1]</span>"
     ]
    },
    {
     "cell_type": "markdown",
     "metadata": {},
     "source": [
      "Take the following matrix and obtain it's eigenvalues:\n",
      "\n",
      "$A_0 = \\begin{bmatrix}1.35264537e+00 & -2.83012728e-03 & 3.75980444e-01 \\\\ -2.83012728e-03 & 1.00491214e-02 & -2.40593554e-03\\\\ 3.75980444e-01 & -2.40593554e-03 & 4.51412148e+00\\end{bmatrix}$\n",
      "\n",
      "Now obtain the QR decomposition of $A_0$ and implement the following algorithm:\n",
      "\n",
      "1. $A_{k+1} = {Q_k^{-1}} \\cdot A_k \\cdot Q_k$\n",
      "\n",
      "...and run it for at least 1500 iterations of $k$. What do you notice about the resulting matrix $A_{1500}$?"
     ]
    },
    {
     "cell_type": "code",
     "collapsed": false,
     "input": [
      "# Solution 3.1\n",
      "# ...\n",
      "sys.setrecursionlimit(1600)\n",
      "A = array([1.35264537e+00, -2.83012728e-03, 3.75980444e-01, -2.83012728e-03, 1.00491214e-02, -2.40593554e-03, 3.75980444e-01, -2.40593554e-03, 4.51412148e+00]).reshape(3,3)\n",
      "w,v = eig(A)\n",
      "print w, \"\\n\"\n",
      "def qr_decomposition(a, limit, current):\n",
      "    if current == limit:\n",
      "        return a\n",
      "    q, r = qr(a)\n",
      "    return qr_decomposition((inv(q).dot(a)).dot(q), limit, current + 1)\n",
      "print qr_decomposition(A, 1500, 0)\n",
      "\n",
      "##Eigen values of A are the same as diagonal of the final Matrix."
     ],
     "language": "python",
     "metadata": {},
     "outputs": [
      {
       "output_type": "stream",
       "stream": "stdout",
       "text": [
        "[ 4.55822169  1.30855172  0.01004256] \n",
        "\n",
        "[[  4.55822169e+000  -3.86695267e-016  -5.40758374e-016]\n",
        " [ -4.94065646e-324   1.30855172e+000   3.94169997e-016]\n",
        " [ -1.48219694e-323   4.94065646e-324   1.00425639e-002]]"
       ]
      },
      {
       "output_type": "stream",
       "stream": "stdout",
       "text": [
        "\n"
       ]
      }
     ],
     "prompt_number": 41
    },
    {
     "cell_type": "markdown",
     "metadata": {},
     "source": [
      "<div>*Assignment 3.1 took me* <input class=\"time_spent\" name=\"ex31_time_spent\" /> *minutes.*</div>"
     ]
    },
    {
     "cell_type": "markdown",
     "metadata": {},
     "source": [
      "---"
     ]
    },
    {
     "cell_type": "heading",
     "level": 3,
     "metadata": {},
     "source": [
      "Assignment 3.2 <span style=\"color: green;\">L1</span>"
     ]
    },
    {
     "cell_type": "markdown",
     "metadata": {},
     "source": [
      "Watch the following video and write a summary about half a DINA4 page long."
     ]
    },
    {
     "cell_type": "code",
     "collapsed": false,
     "input": [
      "IPython.display.YouTubeVideo(\"OSGv2VnC0go\")"
     ],
     "language": "python",
     "metadata": {},
     "outputs": [
      {
       "html": [
        "\n",
        "        <iframe\n",
        "            width=\"400\"\n",
        "            height=300\"\n",
        "            src=\"http://www.youtube.com/embed/OSGv2VnC0go\"\n",
        "            frameborder=\"0\"\n",
        "            allowfullscreen\n",
        "        ></iframe>\n",
        "        "
       ],
       "metadata": {},
       "output_type": "pyout",
       "prompt_number": 42,
       "text": [
        "<IPython.lib.display.YouTubeVideo at 0x42fd810>"
       ]
      }
     ],
     "prompt_number": 42
    },
    {
     "cell_type": "markdown",
     "metadata": {},
     "source": [
      "**Summary here...**"
     ]
    },
    {
     "cell_type": "markdown",
     "metadata": {},
     "source": [
      "\n",
      "\n",
      "\n",
      "<div>*Assignment 3.2 took me* <input class=\"time_spent\" name=\"ex32_time_spent\" /> *minutes.*</div>"
     ]
    },
    {
     "cell_type": "markdown",
     "metadata": {},
     "source": [
      "- Index manipulation is discouraged, use python's looping idioms.\n",
      "- for in python is equivalent of for-each.\n",
      "- range() and xrange can be used to loop over a list. range() produces a list, which can be disastrous for big values, xrange should be used for large numbers it produces numbers one a time.\n",
      "        for i in xrange(600000):\n",
      "            print i\n",
      "- Looping over a collection:\n",
      "        for color in colors:\n",
      "            print color\n",
      "- reversed() can be used for looping backward.\n",
      "- enumerate() can be used to keep track of indices.\n",
      "- For looping over two collections zip and izip can be used, latter should be preferred. zip uses too much memory, izip creates one tuple at a time:\n",
      "- Looping in sorted order (reverse=true sorts in reverse order), (key=len defines the criteria for sorting):          \n",
      "- Iterator iter() takes 2 arguments the function and the sentinel value.\n",
      "- for-else clause shoulde be used to return default value when loop has reached its limit.\n",
      "- Looping over dictionaries returns key. iteritems() can be used to return key and value.\n",
      "- dict and izip can be used to build dictionaries.\n",
      "- get() and defualtdict() can be used for counting with dictionaries.\n",
      "- defaultdict() can be used to group.\n",
      "- popitem() is threadsafe.\n",
      "- ChainMap() for linking dicitionaries.\n",
      "- keyword arguments, named tuples, unpack improve readability- join() should be used join strings.\n",
      "- Decorators seperate business logic from adiminstrative logic.\n",
      "- Context() saves old values and restores it when exiting context.\n",
      "- with() should be used when opening files.\n",
      "- ignored() can be use to ignore exceptions.\n",
      "- List comprehensions are one liners and better for looping.---"
     ]
    },
    {
     "cell_type": "heading",
     "level": 3,
     "metadata": {},
     "source": [
      "Assignment 3.3 <span style=\"color: red;\">L3</span>"
     ]
    },
    {
     "cell_type": "markdown",
     "metadata": {},
     "source": [
      "Read [this article about least squares fitting](http://mathworld.wolfram.com/LeastSquaresFitting.html). Read this [paper about linear least squares and matrix decompositions](http://classes.soe.ucsc.edu/cmps290c/Spring04/paps/lls.pdf). **For all of the following fitting tasks, use a singular value decomposition to fit a shape to each of the given point clouds. Show your results by plotting bot the original points and the fitted shape. Determine what kind of shape to use by inspecting the data points given to you. For some tasks, you will have to use more than one shape (i.e. fit two parallel or orthogonal lines).** "
     ]
    },
    {
     "cell_type": "code",
     "collapsed": false,
     "input": [
      "# Solution 3.3\n",
      "# ...\n",
      "import numpy.linalg\n",
      "from scipy.cluster.vq import kmeans, vq\n",
      "\n",
      "def get_y_values(c, m, x):\n",
      "    y = []\n",
      "    for value in x:\n",
      "        #calculate y for each value of x\n",
      "        y.append(m * value + c)\n",
      "    return y\n",
      "\n",
      "def fit_line(fig):   \n",
      "    x = fig[:, 0]\n",
      "    y = fig[:, 1]    \n",
      "    shape_first_column = shape(fig)[0]\n",
      "    matrix_shape = (shape_first_column, 1)    \n",
      "    x = x.reshape(matrix_shape)\n",
      "    y = y.reshape(matrix_shape)\n",
      "    \n",
      "    #form the 'A' Matrix by hstacking x to a vector of 1s\n",
      "    A = hstack((ones((len(x), 1)), x))\n",
      "    \n",
      "    #calculate the svd of 'A'\n",
      "    u, s, v = svd(A)\n",
      "    \n",
      "    #since we are inversing A tranpose the matrices\n",
      "    u, v = u.T, v.T\n",
      "    \n",
      "    #vstack sigma 's' with zero matrix, and then inverse it\n",
      "    s = pinv(vstack((diag(s), zeros((shape_first_column - 2, 2)))))\n",
      "    \n",
      "    #calculate the final result\n",
      "    result = ((v.dot(s)).dot(u)).dot(y)\n",
      "    \n",
      "    #set the constant and slope\n",
      "    c, m = result[0], result[1]\n",
      "    \n",
      "    #calculate y values using the given x coordinate, slope and constant\n",
      "    final_y = get_y_values(c, m, x)\n",
      "    \n",
      "    return x, y, final_y\n",
      "\n",
      "def plot_data(data):\n",
      "    dimensions = shape(data)\n",
      "    for dimension in data: \n",
      "        x, y, final_y = fit_line(dimension)\n",
      "        scatter(x, y)\n",
      "        plot(x, final_y)\n",
      "    show()\n",
      "    \n",
      "plot_data(load(\"shape0001.npy\"))\n",
      "plot_data(load(\"shape002.npy\"))\n",
      "plot_data(load(\"shape003.npy\"))"
     ],
     "language": "python",
     "metadata": {},
     "outputs": [
      {
       "ename": "NameError",
       "evalue": "global name 'f1' is not defined",
       "output_type": "pyerr",
       "traceback": [
        "\u001b[1;31m---------------------------------------------------------------------------\u001b[0m\n\u001b[1;31mNameError\u001b[0m                                 Traceback (most recent call last)",
        "\u001b[1;32m<ipython-input-43-1466e1097cfc>\u001b[0m in \u001b[0;36m<module>\u001b[1;34m()\u001b[0m\n\u001b[0;32m     50\u001b[0m     \u001b[0mshow\u001b[0m\u001b[1;33m(\u001b[0m\u001b[1;33m)\u001b[0m\u001b[1;33m\u001b[0m\u001b[0m\n\u001b[0;32m     51\u001b[0m \u001b[1;33m\u001b[0m\u001b[0m\n\u001b[1;32m---> 52\u001b[1;33m \u001b[0mplot_data\u001b[0m\u001b[1;33m(\u001b[0m\u001b[0mload\u001b[0m\u001b[1;33m(\u001b[0m\u001b[1;34m\"shape0001.npy\"\u001b[0m\u001b[1;33m)\u001b[0m\u001b[1;33m)\u001b[0m\u001b[1;33m\u001b[0m\u001b[0m\n\u001b[0m\u001b[0;32m     53\u001b[0m \u001b[0mplot_data\u001b[0m\u001b[1;33m(\u001b[0m\u001b[0mload\u001b[0m\u001b[1;33m(\u001b[0m\u001b[1;34m\"shape002.npy\"\u001b[0m\u001b[1;33m)\u001b[0m\u001b[1;33m)\u001b[0m\u001b[1;33m\u001b[0m\u001b[0m\n\u001b[0;32m     54\u001b[0m \u001b[0mplot_data\u001b[0m\u001b[1;33m(\u001b[0m\u001b[0mload\u001b[0m\u001b[1;33m(\u001b[0m\u001b[1;34m\"shape003.npy\"\u001b[0m\u001b[1;33m)\u001b[0m\u001b[1;33m)\u001b[0m\u001b[1;33m\u001b[0m\u001b[0m\n",
        "\u001b[1;32m<ipython-input-43-1466e1097cfc>\u001b[0m in \u001b[0;36mplot_data\u001b[1;34m(data)\u001b[0m\n\u001b[0;32m     45\u001b[0m     \u001b[0mdimensions\u001b[0m \u001b[1;33m=\u001b[0m \u001b[0mshape\u001b[0m\u001b[1;33m(\u001b[0m\u001b[0mdata\u001b[0m\u001b[1;33m)\u001b[0m\u001b[1;33m\u001b[0m\u001b[0m\n\u001b[0;32m     46\u001b[0m     \u001b[1;32mfor\u001b[0m \u001b[0mdimension\u001b[0m \u001b[1;32min\u001b[0m \u001b[0mdata\u001b[0m\u001b[1;33m:\u001b[0m\u001b[1;33m\u001b[0m\u001b[0m\n\u001b[1;32m---> 47\u001b[1;33m         \u001b[0mx\u001b[0m\u001b[1;33m,\u001b[0m \u001b[0my\u001b[0m\u001b[1;33m,\u001b[0m \u001b[0mfinal_y\u001b[0m \u001b[1;33m=\u001b[0m \u001b[0mfit_line\u001b[0m\u001b[1;33m(\u001b[0m\u001b[0mdimension\u001b[0m\u001b[1;33m)\u001b[0m\u001b[1;33m\u001b[0m\u001b[0m\n\u001b[0m\u001b[0;32m     48\u001b[0m         \u001b[0mscatter\u001b[0m\u001b[1;33m(\u001b[0m\u001b[0mx\u001b[0m\u001b[1;33m,\u001b[0m \u001b[0my\u001b[0m\u001b[1;33m)\u001b[0m\u001b[1;33m\u001b[0m\u001b[0m\n\u001b[0;32m     49\u001b[0m         \u001b[0mplot\u001b[0m\u001b[1;33m(\u001b[0m\u001b[0mx\u001b[0m\u001b[1;33m,\u001b[0m \u001b[0mfinal_y\u001b[0m\u001b[1;33m)\u001b[0m\u001b[1;33m\u001b[0m\u001b[0m\n",
        "\u001b[1;32m<ipython-input-43-1466e1097cfc>\u001b[0m in \u001b[0;36mfit_line\u001b[1;34m(fig)\u001b[0m\n\u001b[0;32m     14\u001b[0m     \u001b[0mx\u001b[0m \u001b[1;33m=\u001b[0m \u001b[0mfig\u001b[0m\u001b[1;33m[\u001b[0m\u001b[1;33m:\u001b[0m\u001b[1;33m,\u001b[0m \u001b[1;36m0\u001b[0m\u001b[1;33m]\u001b[0m\u001b[1;33m\u001b[0m\u001b[0m\n\u001b[0;32m     15\u001b[0m     \u001b[0my\u001b[0m \u001b[1;33m=\u001b[0m \u001b[0mfig\u001b[0m\u001b[1;33m[\u001b[0m\u001b[1;33m:\u001b[0m\u001b[1;33m,\u001b[0m \u001b[1;36m1\u001b[0m\u001b[1;33m]\u001b[0m\u001b[1;33m\u001b[0m\u001b[0m\n\u001b[1;32m---> 16\u001b[1;33m     \u001b[0mshape_first_column\u001b[0m \u001b[1;33m=\u001b[0m \u001b[0mshape\u001b[0m\u001b[1;33m(\u001b[0m\u001b[0mf1\u001b[0m\u001b[1;33m)\u001b[0m\u001b[1;33m[\u001b[0m\u001b[1;36m0\u001b[0m\u001b[1;33m]\u001b[0m\u001b[1;33m\u001b[0m\u001b[0m\n\u001b[0m\u001b[0;32m     17\u001b[0m     \u001b[0mmatrix_shape\u001b[0m \u001b[1;33m=\u001b[0m \u001b[1;33m(\u001b[0m\u001b[0mshape_first_column\u001b[0m\u001b[1;33m,\u001b[0m \u001b[1;36m1\u001b[0m\u001b[1;33m)\u001b[0m\u001b[1;33m\u001b[0m\u001b[0m\n\u001b[0;32m     18\u001b[0m     \u001b[0mx\u001b[0m \u001b[1;33m=\u001b[0m \u001b[0mx\u001b[0m\u001b[1;33m.\u001b[0m\u001b[0mreshape\u001b[0m\u001b[1;33m(\u001b[0m\u001b[0mmatrix_shape\u001b[0m\u001b[1;33m)\u001b[0m\u001b[1;33m\u001b[0m\u001b[0m\n",
        "\u001b[1;31mNameError\u001b[0m: global name 'f1' is not defined"
       ]
      }
     ],
     "prompt_number": 43
    },
    {
     "cell_type": "markdown",
     "metadata": {},
     "source": [
      "\n",
      "\n",
      "\n",
      "<div>*Assignment 3.3 took me* <input class=\"time_spent\" name=\"ex33_time_spent\" /> *minutes.*</div>"
     ]
    },
    {
     "cell_type": "markdown",
     "metadata": {},
     "source": [
      "---"
     ]
    },
    {
     "cell_type": "markdown",
     "metadata": {},
     "source": [
      "<script type=\"text/javascript\">\n",
      "    function validTime(minutes) { \n",
      "        var numberIsSane = isFinite(parseInt(minutes, 10)) && (parseFloat(minutes, 10) == parseInt(minutes, 10)); \n",
      "        var numberInRange = ( (minutes >= 1) && (minutes < 60*24*7) );\n",
      "        return (numberIsSane && numberInRange);\n",
      "    }\n",
      "    function create_time_file() {\n",
      "        var kernel = IPython.notebook.kernel;\n",
      "        if (kernel) {\n",
      "            var studentName = $('#usrname').val();\n",
      "            var filename = 'MRC_' + encodeURIComponent(studentName.replace(' ', '')) + '_20131024.txt'\n",
      "            var inputElements = $(':text.time_spent');\n",
      "            var timings = new Array();\n",
      "            if (inputElements) {\n",
      "                var allTimesAreValid = true;\n",
      "                var invalidTimeValue = null;\n",
      "                inputElements.each(function() {\n",
      "                    if (!validTime(this.value)) {\n",
      "                        allTimesAreValid = false;\n",
      "                        invalidTimeValue = this.value;\n",
      "                        return;\n",
      "                    }\n",
      "                    timings.push(this.value);\n",
      "                });\n",
      "                if (!allTimesAreValid) {\n",
      "                    alert('Unable to save assignment times, invalid time value <' + invalidTimeValue + '>');\n",
      "                    return;\n",
      "                }\n",
      "                if (!studentName) {\n",
      "                    alert('Please include your name in the submission');\n",
      "                    return;\n",
      "                }\n",
      "                if (confirm('Here are the timings I am going to save:\\n\\n' + timings.join(\" minutes\\n\") + ' minutes\\n\\nFilename: ' + filename + '\\n\\nDo you want me to continue?')) {\n",
      "                    var pyCode = [\n",
      "                        'with open(\"' + filename + '\", \"w\") as timings_file:',\n",
      "                        'print >>timings_file, \"NAME:\", \"' + studentName + '\"',\n",
      "                        'print >>timings_file, \"ASSIGNMENT TIMES:\"'\n",
      "                    ];\n",
      "                    timings.forEach(function(minutesTaken, assignmentIndex, arr) {\n",
      "                        pyCode.push('print >>timings_file, \"{0:03d}: {1:05d}\".format(' + assignmentIndex + ', ' + minutesTaken + ')');\n",
      "                    });\n",
      "                    kernel.execute(pyCode.join('\\n    '));\n",
      "                }\n",
      "            }\n",
      "        }\n",
      "        else {\n",
      "              alert('Unable to save, please manually create a file containing the times spent working on the assignments');\n",
      "        }\n",
      "    }\n",
      "</script>\n",
      "\n",
      "*Use this button to create a .txt file containing the time in minutes you spent working on the assignments. Make sure to include your name in the textbox below. The file will be created in the current directory.*\n",
      "\n",
      "\n",
      "Student's name:\n",
      "\n",
      "<input type=\"text\" id=\"usrname\" name=\"student_name\" />\n",
      "\n",
      "<input type=\"button\" onclick=\"javascript:create_time_file()\" value=\"Save timings\" />"
     ]
    }
   ],
   "metadata": {}
  }
 ]
}